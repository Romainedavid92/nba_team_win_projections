{
 "cells": [
  {
   "cell_type": "code",
   "execution_count": null,
   "metadata": {},
   "outputs": [],
   "source": [
    "import pandas as pd\n",
    "import time"
   ]
  },
  {
   "cell_type": "code",
   "execution_count": null,
   "metadata": {},
   "outputs": [],
   "source": [
    "nba_team_lst = ['POR', 'LAL', 'LAC', 'SAC', 'UTA', 'BRK', 'WAS', 'NYK', 'SAS',\n",
    "       'MIA', 'ORL', 'MIN', 'HOU', 'CHI', 'MIL', 'NOP', 'DET',\n",
    "       'BOS', 'PHI', 'TOR', 'DAL', 'MEM', 'ATL', 'DEN', 'OKC', 'IND',\n",
    "       'CHO', 'GSW', 'CLE']\n",
    "years = [2018,2019,2020,2021]"
   ]
  },
  {
   "cell_type": "code",
   "execution_count": null,
   "metadata": {},
   "outputs": [],
   "source": [
    "for team in nba_team_lst:\n",
    "    for year in years:\n",
    "        #build the url\n",
    "        url = f'https://www.basketball-reference.com/teams/{team}/{year}/gamelog/'\n",
    "        \n",
    "        #save results to dictionary\n",
    "        team_history_log = {\n",
    "                            f'{team}': {\n",
    "                                        'year': f'{year}',\n",
    "                                        'df': pd.read_html(url)[0]\n",
    "                                        }\n",
    "                            } # need to change to an insert statement\n",
    "        \n",
    "        #sleep to decrease rate\n",
    "        time.sleep(10)\n",
    "        \n",
    "        print(f'loop finished, {team} and {year} collected')"
   ]
  }
 ],
 "metadata": {
  "kernelspec": {
   "display_name": "Python 3",
   "language": "python",
   "name": "python3"
  },
  "language_info": {
   "codemirror_mode": {
    "name": "ipython",
    "version": 3
   },
   "file_extension": ".py",
   "mimetype": "text/x-python",
   "name": "python",
   "nbconvert_exporter": "python",
   "pygments_lexer": "ipython3",
   "version": "3.7.7"
  }
 },
 "nbformat": 4,
 "nbformat_minor": 4
}
